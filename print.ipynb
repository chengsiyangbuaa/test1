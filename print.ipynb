{
 "cells": [
  {
   "cell_type": "code",
   "execution_count": 1,
   "metadata": {},
   "outputs": [],
   "source": [
    "#print()相关\n"
   ]
  },
  {
   "cell_type": "code",
   "execution_count": 2,
   "metadata": {},
   "outputs": [
    {
     "name": "stdout",
     "output_type": "stream",
     "text": [
      "Mary has 5 lambs , each lamb worth $125.24.So, there lambs worth $626.2 in total.\n"
     ]
    }
   ],
   "source": [
    "#place holder占位符\n",
    "sName = \"Mary\"\n",
    "fPrice = 125.24\n",
    "n = 5\n",
    "sText = \"%s has %d lambs , each lamb worth $%.2f.So, there lambs worth $%.1f in total.\" %(sName,n,fPrice,n*fPrice)\n",
    "print(sText)"
   ]
  },
  {
   "cell_type": "code",
   "execution_count": 3,
   "metadata": {},
   "outputs": [
    {
     "name": "stdout",
     "output_type": "stream",
     "text": [
      "oxff =  255\n",
      "ob111 =  7\n"
     ]
    }
   ],
   "source": [
    "a = 0xff\n",
    "b = 0b111\n",
    "print(\"oxff = \",a)\n",
    "print(\"ob111 = \",b)"
   ]
  }
 ],
 "metadata": {
  "interpreter": {
   "hash": "063997466fb8d14a66bdbd4ad5df2a78771035d795576952896bfbd2277157cc"
  },
  "kernelspec": {
   "display_name": "Python 3.8.10 64-bit (windows store)",
   "language": "python",
   "name": "python3"
  },
  "language_info": {
   "codemirror_mode": {
    "name": "ipython",
    "version": 3
   },
   "file_extension": ".py",
   "mimetype": "text/x-python",
   "name": "python",
   "nbconvert_exporter": "python",
   "pygments_lexer": "ipython3",
   "version": "3.8.10"
  },
  "orig_nbformat": 4
 },
 "nbformat": 4,
 "nbformat_minor": 2
}
