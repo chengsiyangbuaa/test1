{
 "cells": [
  {
   "cell_type": "code",
   "execution_count": 1,
   "metadata": {},
   "outputs": [],
   "source": [
    "#获取用户输入"
   ]
  },
  {
   "cell_type": "code",
   "execution_count": 4,
   "metadata": {},
   "outputs": [
    {
     "name": "stdout",
     "output_type": "stream",
     "text": [
      "<class 'str'> xiaoqiezi \n",
      "<class 'str'> 14\n",
      "Hi! xiaoqiezi  you are  14 years olds\n"
     ]
    }
   ],
   "source": [
    "sName = input(\"What ' s your name?\")\n",
    "iAge = input(\"How old are you?\")\n",
    "print(type(sName),sName)\n",
    "print(type(iAge),iAge)\n",
    "iAge = int(iAge)\n",
    "print(\"Hi!\",sName,\"you are \",iAge,\"years olds\")"
   ]
  },
  {
   "cell_type": "code",
   "execution_count": null,
   "metadata": {},
   "outputs": [],
   "source": []
  }
 ],
 "metadata": {
  "interpreter": {
   "hash": "063997466fb8d14a66bdbd4ad5df2a78771035d795576952896bfbd2277157cc"
  },
  "kernelspec": {
   "display_name": "Python 3.8.10 64-bit (windows store)",
   "language": "python",
   "name": "python3"
  },
  "language_info": {
   "codemirror_mode": {
    "name": "ipython",
    "version": 3
   },
   "file_extension": ".py",
   "mimetype": "text/x-python",
   "name": "python",
   "nbconvert_exporter": "python",
   "pygments_lexer": "ipython3",
   "version": "3.8.10"
  },
  "orig_nbformat": 4
 },
 "nbformat": 4,
 "nbformat_minor": 2
}
