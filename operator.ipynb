{
 "cells": [
  {
   "cell_type": "code",
   "execution_count": 1,
   "metadata": {},
   "outputs": [],
   "source": [
    "#操作符\n"
   ]
  },
  {
   "cell_type": "code",
   "execution_count": 3,
   "metadata": {},
   "outputs": [
    {
     "name": "stdout",
     "output_type": "stream",
     "text": [
      "5\n"
     ]
    }
   ],
   "source": [
    "a = 3\n",
    "a = a + 2\n",
    "print(a)"
   ]
  },
  {
   "cell_type": "code",
   "execution_count": 5,
   "metadata": {},
   "outputs": [
    {
     "name": "stdout",
     "output_type": "stream",
     "text": [
      "2\n"
     ]
    }
   ],
   "source": [
    "a = 3\n",
    "a =+ 2\n",
    "print(a)"
   ]
  },
  {
   "cell_type": "code",
   "execution_count": 7,
   "metadata": {},
   "outputs": [
    {
     "name": "stdout",
     "output_type": "stream",
     "text": [
      "3.0\n"
     ]
    }
   ],
   "source": [
    "c = 9\n",
    "c /= 3\n",
    "print(c)"
   ]
  },
  {
   "cell_type": "code",
   "execution_count": 10,
   "metadata": {},
   "outputs": [
    {
     "name": "stdout",
     "output_type": "stream",
     "text": [
      "3\n",
      "1\n"
     ]
    }
   ],
   "source": [
    "c = 10\n",
    "d = 3\n",
    "e = c // d #整除,地板除，向下取整\n",
    "f = c % d\n",
    "print(e)\n",
    "print(f)"
   ]
  },
  {
   "cell_type": "code",
   "execution_count": 22,
   "metadata": {},
   "outputs": [
    {
     "name": "stdout",
     "output_type": "stream",
     "text": [
      "a > 5 True\n",
      "a < 5 False\n",
      "a > 5 and a < 20 True\n",
      "a < 5 or a > 20 False\n",
      "a < 5 and a < 20 False\n",
      "a < 5 or a < 20 True\n",
      "a < 10 False\n",
      "a <= 10 True\n",
      "not a >= 10 False\n",
      "a !=10 False\n",
      "a == 10 True\n"
     ]
    }
   ],
   "source": [
    "a = 10\n",
    "print(\"a > 5\",a > 5)\n",
    "print(\"a < 5\",a < 5)\n",
    "print(\"a > 5 and a < 20\",a > 5 and a < 20)\n",
    "print(\"a < 5 or a > 20\",a < 5 or a > 20)\n",
    "print(\"a < 5 and a < 20\",a < 5 and a < 20)\n",
    "print(\"a < 5 or a < 20\",a < 5 or a < 20)\n",
    "print(\"a < 10\",a < 10)\n",
    "print(\"a <= 10\",a <= 10)\n",
    "print(\"not a >= 10\",not a >= 10)\n",
    "print(\"a !=10\",a !=10)\n",
    "print(\"a == 10\",a == 10)"
   ]
  },
  {
   "cell_type": "code",
   "execution_count": 24,
   "metadata": {},
   "outputs": [
    {
     "name": "stdout",
     "output_type": "stream",
     "text": [
      "26\n"
     ]
    }
   ],
   "source": [
    "n = 2 + 3*2**3\n",
    "print(n)"
   ]
  }
 ],
 "metadata": {
  "interpreter": {
   "hash": "063997466fb8d14a66bdbd4ad5df2a78771035d795576952896bfbd2277157cc"
  },
  "kernelspec": {
   "display_name": "Python 3.8.10 64-bit (windows store)",
   "language": "python",
   "name": "python3"
  },
  "language_info": {
   "codemirror_mode": {
    "name": "ipython",
    "version": 3
   },
   "file_extension": ".py",
   "mimetype": "text/x-python",
   "name": "python",
   "nbconvert_exporter": "python",
   "pygments_lexer": "ipython3",
   "version": "3.8.10"
  },
  "orig_nbformat": 4
 },
 "nbformat": 4,
 "nbformat_minor": 2
}
