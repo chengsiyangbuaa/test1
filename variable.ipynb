{
 "cells": [
  {
   "cell_type": "code",
   "execution_count": 4,
   "metadata": {},
   "outputs": [
    {
     "name": "stdout",
     "output_type": "stream",
     "text": [
      "3\n",
      "3.6\n",
      "chouhuzi\n",
      "<class 'int'>\n",
      "<class 'float'>\n",
      "<class 'str'>\n",
      "chouhuzi bought 3 cigarettes total paid 10.8 RMB\n"
     ]
    }
   ],
   "source": [
    "n=3\n",
    "fPrice = 3.6\n",
    "sName = 'chouhuzi'\n",
    "print(n)\n",
    "print(fPrice)\n",
    "print(sName)\n",
    "print(type(n))\n",
    "print(type(fPrice))\n",
    "print(type(sName))\n",
    "print(sName,\"bought\",n,\"cigarettes total paid\",n*fPrice,\"RMB\")"
   ]
  },
  {
   "cell_type": "code",
   "execution_count": 6,
   "metadata": {},
   "outputs": [
    {
     "name": "stdout",
     "output_type": "stream",
     "text": [
      "['False', 'None', 'True', 'and', 'as', 'assert', 'async', 'await', 'break', 'class', 'continue', 'def', 'del', 'elif', 'else', 'except', 'finally', 'for', 'from', 'global', 'if', 'import', 'in', 'is', 'lambda', 'nonlocal', 'not', 'or', 'pass', 'raise', 'return', 'try', 'while', 'with', 'yield']\n"
     ]
    }
   ],
   "source": [
    "#keyboard 关键字\n",
    "import keyword\n",
    "print(keyword.kwlist)\n"
   ]
  },
  {
   "cell_type": "code",
   "execution_count": 8,
   "metadata": {},
   "outputs": [
    {
     "name": "stdout",
     "output_type": "stream",
     "text": [
      "14.000000000000002\n",
      "0.14*100 != 14\n"
     ]
    }
   ],
   "source": [
    "n = 0.14\n",
    "n = n*100\n",
    "print(n)\n",
    "\n",
    "if n==14:\n",
    "    print('0.14*100 == 14')\n",
    "else:\n",
    "    print('0.14*100 != 14')"
   ]
  },
  {
   "cell_type": "code",
   "execution_count": 10,
   "metadata": {},
   "outputs": [
    {
     "name": "stdout",
     "output_type": "stream",
     "text": [
      "False\n",
      "<class 'bool'>\n"
     ]
    }
   ],
   "source": [
    "b = 3 < 2\n",
    "print(b)\n",
    "print(type(b))"
   ]
  },
  {
   "cell_type": "code",
   "execution_count": 15,
   "metadata": {},
   "outputs": [
    {
     "name": "stdout",
     "output_type": "stream",
     "text": [
      "1\n",
      "0\n",
      "True\n",
      "False\n",
      "True\n",
      "True\n",
      "True\n",
      "False\n",
      "3 is True\n"
     ]
    }
   ],
   "source": [
    "print(int(True))\n",
    "print(int(False))\n",
    "print(bool(1))\n",
    "print(bool(0))\n",
    "print(bool(2))\n",
    "print(bool('chou hu zi'))\n",
    "print(bool(3.14))\n",
    "print(bool())\n",
    "\n",
    "if 3:\n",
    "    print(\"3 is True\")\n"
   ]
  },
  {
   "cell_type": "code",
   "execution_count": 17,
   "metadata": {},
   "outputs": [
    {
     "name": "stdout",
     "output_type": "stream",
     "text": [
      "'xiao' 'qie' 'zi'\n",
      "\"xiao\" \"qie\" \"zi\"\n"
     ]
    }
   ],
   "source": [
    "print(\"'xiao' 'qie' 'zi'\")\n",
    "print('\"xiao\" \"qie\" \"zi\"')"
   ]
  },
  {
   "cell_type": "code",
   "execution_count": 19,
   "metadata": {},
   "outputs": [
    {
     "name": "stdout",
     "output_type": "stream",
     "text": [
      "\"xiao\" \"qie\" \"zi\"\n"
     ]
    }
   ],
   "source": [
    "print(\"\\\"xiao\\\" \\\"qie\\\" \\\"zi\\\"\")"
   ]
  },
  {
   "cell_type": "code",
   "execution_count": 22,
   "metadata": {},
   "outputs": [
    {
     "name": "stdout",
     "output_type": "stream",
     "text": [
      "\\xiao \\\\qie \\\\zi\n"
     ]
    }
   ],
   "source": [
    "print(\"\\\\xiao \\\\\\qie \\\\\\\\zi\")"
   ]
  },
  {
   "cell_type": "code",
   "execution_count": 24,
   "metadata": {},
   "outputs": [
    {
     "name": "stdout",
     "output_type": "stream",
     "text": [
      "\txiao\tqie\tzi\n"
     ]
    }
   ],
   "source": [
    "print(\"\\txiao\\tqie\\tzi\")"
   ]
  },
  {
   "cell_type": "code",
   "execution_count": 26,
   "metadata": {},
   "outputs": [
    {
     "name": "stdout",
     "output_type": "stream",
     "text": [
      "xiao\n",
      "qie\n",
      "zi\n"
     ]
    }
   ],
   "source": [
    "print(\"xiao\\nqie\\nzi\")"
   ]
  },
  {
   "cell_type": "code",
   "execution_count": 28,
   "metadata": {},
   "outputs": [
    {
     "name": "stdout",
     "output_type": "stream",
     "text": [
      "Xiao Qie Zi\n"
     ]
    }
   ],
   "source": [
    "print('xIao QIE zi'.title())"
   ]
  },
  {
   "cell_type": "code",
   "execution_count": 29,
   "metadata": {},
   "outputs": [
    {
     "name": "stdout",
     "output_type": "stream",
     "text": [
      "120 3.132\n",
      "1203.132\n",
      "123.132\n",
      "1203.132\n"
     ]
    }
   ],
   "source": [
    "s1 = \"120\"\n",
    "s2 = \"3.132\"\n",
    "i = int(s1)\n",
    "f = float(s2)\n",
    "print(i,f)\n",
    "print(s1+s2)\n",
    "print(i+f)\n",
    "s3 = str(i)\n",
    "s4 = str(f)\n",
    "print(s3 + s4)"
   ]
  },
  {
   "cell_type": "code",
   "execution_count": null,
   "metadata": {},
   "outputs": [],
   "source": []
  }
 ],
 "metadata": {
  "interpreter": {
   "hash": "063997466fb8d14a66bdbd4ad5df2a78771035d795576952896bfbd2277157cc"
  },
  "kernelspec": {
   "display_name": "Python 3.8.10 64-bit (windows store)",
   "language": "python",
   "name": "python3"
  },
  "language_info": {
   "codemirror_mode": {
    "name": "ipython",
    "version": 3
   },
   "file_extension": ".py",
   "mimetype": "text/x-python",
   "name": "python",
   "nbconvert_exporter": "python",
   "pygments_lexer": "ipython3",
   "version": "3.8.10"
  },
  "orig_nbformat": 4
 },
 "nbformat": 4,
 "nbformat_minor": 2
}
